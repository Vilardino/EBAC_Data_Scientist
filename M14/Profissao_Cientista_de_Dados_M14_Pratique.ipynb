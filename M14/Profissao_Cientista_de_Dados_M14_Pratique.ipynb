{
  "cells": [
    {
      "cell_type": "markdown",
      "metadata": {
        "id": "oRsiqY067PIY"
      },
      "source": [
        "# **MÓDULO 14 - Exercício**\n",
        "# Pré Processamento dos Dados - A primeira etapa Pré Modelagem"
      ]
    },
    {
      "cell_type": "markdown",
      "metadata": {
        "id": "z_xy2WNB7Zil"
      },
      "source": [
        "Para nossa atividade usaremos uma base de churn também, porém essa base não diz respeito a serviços bancários e sim serviços de internet, telefone e tv - Telecomunicação.\n",
        "\n",
        "Vamos realizar aqui as etapas de limpeza e tratamento de dados vistos durante a aula, porém aplicados a essa base nova."
      ]
    },
    {
      "cell_type": "code",
      "execution_count": 38,
      "metadata": {
        "id": "JT5cIPR07GqI"
      },
      "outputs": [],
      "source": [
        "import seaborn as sns\n",
        "import matplotlib.pyplot as plt\n",
        "import pandas as pd"
      ]
    },
    {
      "cell_type": "code",
      "execution_count": 39,
      "metadata": {
        "colab": {
          "base_uri": "https://localhost:8080/",
          "height": 557
        },
        "id": "YpQybbwr76nX",
        "outputId": "ddc1b4a9-50f1-41db-9ba8-76d57239126e"
      },
      "outputs": [
        {
          "output_type": "execute_result",
          "data": {
            "text/plain": [
              "   customerID  Genero  Idoso Casado Dependents  Tempo_como_Cliente  \\\n",
              "0  7590-VHVEG  Female      0    Yes         No                   1   \n",
              "1  5575-GNVDE    Male      0     No         No                  34   \n",
              "2  3668-QPYBK    Male      0     No         No                   2   \n",
              "3  7795-CFOCW    Male      0     No         No                  45   \n",
              "4  9237-HQITU     NaN      0     No         No                   2   \n",
              "5  9305-CDSKC     NaN      0     No         No                   8   \n",
              "6  1452-KIOVK     NaN      0     No        Yes                  22   \n",
              "7  6713-OKOMC     NaN      0     No         No                  10   \n",
              "8  7892-POOKP     NaN      0    Yes         No                  28   \n",
              "9  6388-TABGU     NaN      0     No        Yes                  62   \n",
              "\n",
              "  PhoneService Servico_Internet Servico_Seguranca Suporte_Tecnico StreamingTV  \\\n",
              "0           No              DSL                No              No          No   \n",
              "1          Yes              DSL               Yes              No          No   \n",
              "2          Yes              DSL               Yes              No          No   \n",
              "3           No              DSL               Yes             Yes          No   \n",
              "4          Yes      Fiber optic                No              No          No   \n",
              "5          Yes      Fiber optic                No              No         Yes   \n",
              "6          Yes      Fiber optic                No              No         Yes   \n",
              "7           No              DSL               Yes              No          No   \n",
              "8          Yes      Fiber optic                No             Yes         Yes   \n",
              "9          Yes              dsl               Yes              No          No   \n",
              "\n",
              "    Tipo_Contrato              PaymentMethod  Pagamento_Mensal  Total_Pago  \\\n",
              "0  Month-to-month           Electronic check             29.85       29.85   \n",
              "1        One year               Mailed check             56.95     1889.50   \n",
              "2  Month-to-month               Mailed check             53.85      108.15   \n",
              "3        One year  Bank transfer (automatic)               NaN     1840.75   \n",
              "4  Month-to-month           Electronic check               NaN      151.65   \n",
              "5  Month-to-month           Electronic check               NaN      820.50   \n",
              "6  Month-to-month    Credit card (automatic)               NaN     1949.40   \n",
              "7  Month-to-month               Mailed check               NaN      301.90   \n",
              "8  Month-to-month           Electronic check               NaN     3046.05   \n",
              "9        One year  Bank transfer (automatic)               NaN     3487.95   \n",
              "\n",
              "  Churn  \n",
              "0    No  \n",
              "1    No  \n",
              "2   Yes  \n",
              "3    No  \n",
              "4   Yes  \n",
              "5   NaN  \n",
              "6   NaN  \n",
              "7   NaN  \n",
              "8   NaN  \n",
              "9   NaN  "
            ],
            "text/html": [
              "\n",
              "  <div id=\"df-759bbc7a-7244-4451-b2cc-d46eabcc82f8\" class=\"colab-df-container\">\n",
              "    <div>\n",
              "<style scoped>\n",
              "    .dataframe tbody tr th:only-of-type {\n",
              "        vertical-align: middle;\n",
              "    }\n",
              "\n",
              "    .dataframe tbody tr th {\n",
              "        vertical-align: top;\n",
              "    }\n",
              "\n",
              "    .dataframe thead th {\n",
              "        text-align: right;\n",
              "    }\n",
              "</style>\n",
              "<table border=\"1\" class=\"dataframe\">\n",
              "  <thead>\n",
              "    <tr style=\"text-align: right;\">\n",
              "      <th></th>\n",
              "      <th>customerID</th>\n",
              "      <th>Genero</th>\n",
              "      <th>Idoso</th>\n",
              "      <th>Casado</th>\n",
              "      <th>Dependents</th>\n",
              "      <th>Tempo_como_Cliente</th>\n",
              "      <th>PhoneService</th>\n",
              "      <th>Servico_Internet</th>\n",
              "      <th>Servico_Seguranca</th>\n",
              "      <th>Suporte_Tecnico</th>\n",
              "      <th>StreamingTV</th>\n",
              "      <th>Tipo_Contrato</th>\n",
              "      <th>PaymentMethod</th>\n",
              "      <th>Pagamento_Mensal</th>\n",
              "      <th>Total_Pago</th>\n",
              "      <th>Churn</th>\n",
              "    </tr>\n",
              "  </thead>\n",
              "  <tbody>\n",
              "    <tr>\n",
              "      <th>0</th>\n",
              "      <td>7590-VHVEG</td>\n",
              "      <td>Female</td>\n",
              "      <td>0</td>\n",
              "      <td>Yes</td>\n",
              "      <td>No</td>\n",
              "      <td>1</td>\n",
              "      <td>No</td>\n",
              "      <td>DSL</td>\n",
              "      <td>No</td>\n",
              "      <td>No</td>\n",
              "      <td>No</td>\n",
              "      <td>Month-to-month</td>\n",
              "      <td>Electronic check</td>\n",
              "      <td>29.85</td>\n",
              "      <td>29.85</td>\n",
              "      <td>No</td>\n",
              "    </tr>\n",
              "    <tr>\n",
              "      <th>1</th>\n",
              "      <td>5575-GNVDE</td>\n",
              "      <td>Male</td>\n",
              "      <td>0</td>\n",
              "      <td>No</td>\n",
              "      <td>No</td>\n",
              "      <td>34</td>\n",
              "      <td>Yes</td>\n",
              "      <td>DSL</td>\n",
              "      <td>Yes</td>\n",
              "      <td>No</td>\n",
              "      <td>No</td>\n",
              "      <td>One year</td>\n",
              "      <td>Mailed check</td>\n",
              "      <td>56.95</td>\n",
              "      <td>1889.50</td>\n",
              "      <td>No</td>\n",
              "    </tr>\n",
              "    <tr>\n",
              "      <th>2</th>\n",
              "      <td>3668-QPYBK</td>\n",
              "      <td>Male</td>\n",
              "      <td>0</td>\n",
              "      <td>No</td>\n",
              "      <td>No</td>\n",
              "      <td>2</td>\n",
              "      <td>Yes</td>\n",
              "      <td>DSL</td>\n",
              "      <td>Yes</td>\n",
              "      <td>No</td>\n",
              "      <td>No</td>\n",
              "      <td>Month-to-month</td>\n",
              "      <td>Mailed check</td>\n",
              "      <td>53.85</td>\n",
              "      <td>108.15</td>\n",
              "      <td>Yes</td>\n",
              "    </tr>\n",
              "    <tr>\n",
              "      <th>3</th>\n",
              "      <td>7795-CFOCW</td>\n",
              "      <td>Male</td>\n",
              "      <td>0</td>\n",
              "      <td>No</td>\n",
              "      <td>No</td>\n",
              "      <td>45</td>\n",
              "      <td>No</td>\n",
              "      <td>DSL</td>\n",
              "      <td>Yes</td>\n",
              "      <td>Yes</td>\n",
              "      <td>No</td>\n",
              "      <td>One year</td>\n",
              "      <td>Bank transfer (automatic)</td>\n",
              "      <td>NaN</td>\n",
              "      <td>1840.75</td>\n",
              "      <td>No</td>\n",
              "    </tr>\n",
              "    <tr>\n",
              "      <th>4</th>\n",
              "      <td>9237-HQITU</td>\n",
              "      <td>NaN</td>\n",
              "      <td>0</td>\n",
              "      <td>No</td>\n",
              "      <td>No</td>\n",
              "      <td>2</td>\n",
              "      <td>Yes</td>\n",
              "      <td>Fiber optic</td>\n",
              "      <td>No</td>\n",
              "      <td>No</td>\n",
              "      <td>No</td>\n",
              "      <td>Month-to-month</td>\n",
              "      <td>Electronic check</td>\n",
              "      <td>NaN</td>\n",
              "      <td>151.65</td>\n",
              "      <td>Yes</td>\n",
              "    </tr>\n",
              "    <tr>\n",
              "      <th>5</th>\n",
              "      <td>9305-CDSKC</td>\n",
              "      <td>NaN</td>\n",
              "      <td>0</td>\n",
              "      <td>No</td>\n",
              "      <td>No</td>\n",
              "      <td>8</td>\n",
              "      <td>Yes</td>\n",
              "      <td>Fiber optic</td>\n",
              "      <td>No</td>\n",
              "      <td>No</td>\n",
              "      <td>Yes</td>\n",
              "      <td>Month-to-month</td>\n",
              "      <td>Electronic check</td>\n",
              "      <td>NaN</td>\n",
              "      <td>820.50</td>\n",
              "      <td>NaN</td>\n",
              "    </tr>\n",
              "    <tr>\n",
              "      <th>6</th>\n",
              "      <td>1452-KIOVK</td>\n",
              "      <td>NaN</td>\n",
              "      <td>0</td>\n",
              "      <td>No</td>\n",
              "      <td>Yes</td>\n",
              "      <td>22</td>\n",
              "      <td>Yes</td>\n",
              "      <td>Fiber optic</td>\n",
              "      <td>No</td>\n",
              "      <td>No</td>\n",
              "      <td>Yes</td>\n",
              "      <td>Month-to-month</td>\n",
              "      <td>Credit card (automatic)</td>\n",
              "      <td>NaN</td>\n",
              "      <td>1949.40</td>\n",
              "      <td>NaN</td>\n",
              "    </tr>\n",
              "    <tr>\n",
              "      <th>7</th>\n",
              "      <td>6713-OKOMC</td>\n",
              "      <td>NaN</td>\n",
              "      <td>0</td>\n",
              "      <td>No</td>\n",
              "      <td>No</td>\n",
              "      <td>10</td>\n",
              "      <td>No</td>\n",
              "      <td>DSL</td>\n",
              "      <td>Yes</td>\n",
              "      <td>No</td>\n",
              "      <td>No</td>\n",
              "      <td>Month-to-month</td>\n",
              "      <td>Mailed check</td>\n",
              "      <td>NaN</td>\n",
              "      <td>301.90</td>\n",
              "      <td>NaN</td>\n",
              "    </tr>\n",
              "    <tr>\n",
              "      <th>8</th>\n",
              "      <td>7892-POOKP</td>\n",
              "      <td>NaN</td>\n",
              "      <td>0</td>\n",
              "      <td>Yes</td>\n",
              "      <td>No</td>\n",
              "      <td>28</td>\n",
              "      <td>Yes</td>\n",
              "      <td>Fiber optic</td>\n",
              "      <td>No</td>\n",
              "      <td>Yes</td>\n",
              "      <td>Yes</td>\n",
              "      <td>Month-to-month</td>\n",
              "      <td>Electronic check</td>\n",
              "      <td>NaN</td>\n",
              "      <td>3046.05</td>\n",
              "      <td>NaN</td>\n",
              "    </tr>\n",
              "    <tr>\n",
              "      <th>9</th>\n",
              "      <td>6388-TABGU</td>\n",
              "      <td>NaN</td>\n",
              "      <td>0</td>\n",
              "      <td>No</td>\n",
              "      <td>Yes</td>\n",
              "      <td>62</td>\n",
              "      <td>Yes</td>\n",
              "      <td>dsl</td>\n",
              "      <td>Yes</td>\n",
              "      <td>No</td>\n",
              "      <td>No</td>\n",
              "      <td>One year</td>\n",
              "      <td>Bank transfer (automatic)</td>\n",
              "      <td>NaN</td>\n",
              "      <td>3487.95</td>\n",
              "      <td>NaN</td>\n",
              "    </tr>\n",
              "  </tbody>\n",
              "</table>\n",
              "</div>\n",
              "    <div class=\"colab-df-buttons\">\n",
              "\n",
              "  <div class=\"colab-df-container\">\n",
              "    <button class=\"colab-df-convert\" onclick=\"convertToInteractive('df-759bbc7a-7244-4451-b2cc-d46eabcc82f8')\"\n",
              "            title=\"Convert this dataframe to an interactive table.\"\n",
              "            style=\"display:none;\">\n",
              "\n",
              "  <svg xmlns=\"http://www.w3.org/2000/svg\" height=\"24px\" viewBox=\"0 -960 960 960\">\n",
              "    <path d=\"M120-120v-720h720v720H120Zm60-500h600v-160H180v160Zm220 220h160v-160H400v160Zm0 220h160v-160H400v160ZM180-400h160v-160H180v160Zm440 0h160v-160H620v160ZM180-180h160v-160H180v160Zm440 0h160v-160H620v160Z\"/>\n",
              "  </svg>\n",
              "    </button>\n",
              "\n",
              "  <style>\n",
              "    .colab-df-container {\n",
              "      display:flex;\n",
              "      gap: 12px;\n",
              "    }\n",
              "\n",
              "    .colab-df-convert {\n",
              "      background-color: #E8F0FE;\n",
              "      border: none;\n",
              "      border-radius: 50%;\n",
              "      cursor: pointer;\n",
              "      display: none;\n",
              "      fill: #1967D2;\n",
              "      height: 32px;\n",
              "      padding: 0 0 0 0;\n",
              "      width: 32px;\n",
              "    }\n",
              "\n",
              "    .colab-df-convert:hover {\n",
              "      background-color: #E2EBFA;\n",
              "      box-shadow: 0px 1px 2px rgba(60, 64, 67, 0.3), 0px 1px 3px 1px rgba(60, 64, 67, 0.15);\n",
              "      fill: #174EA6;\n",
              "    }\n",
              "\n",
              "    .colab-df-buttons div {\n",
              "      margin-bottom: 4px;\n",
              "    }\n",
              "\n",
              "    [theme=dark] .colab-df-convert {\n",
              "      background-color: #3B4455;\n",
              "      fill: #D2E3FC;\n",
              "    }\n",
              "\n",
              "    [theme=dark] .colab-df-convert:hover {\n",
              "      background-color: #434B5C;\n",
              "      box-shadow: 0px 1px 3px 1px rgba(0, 0, 0, 0.15);\n",
              "      filter: drop-shadow(0px 1px 2px rgba(0, 0, 0, 0.3));\n",
              "      fill: #FFFFFF;\n",
              "    }\n",
              "  </style>\n",
              "\n",
              "    <script>\n",
              "      const buttonEl =\n",
              "        document.querySelector('#df-759bbc7a-7244-4451-b2cc-d46eabcc82f8 button.colab-df-convert');\n",
              "      buttonEl.style.display =\n",
              "        google.colab.kernel.accessAllowed ? 'block' : 'none';\n",
              "\n",
              "      async function convertToInteractive(key) {\n",
              "        const element = document.querySelector('#df-759bbc7a-7244-4451-b2cc-d46eabcc82f8');\n",
              "        const dataTable =\n",
              "          await google.colab.kernel.invokeFunction('convertToInteractive',\n",
              "                                                    [key], {});\n",
              "        if (!dataTable) return;\n",
              "\n",
              "        const docLinkHtml = 'Like what you see? Visit the ' +\n",
              "          '<a target=\"_blank\" href=https://colab.research.google.com/notebooks/data_table.ipynb>data table notebook</a>'\n",
              "          + ' to learn more about interactive tables.';\n",
              "        element.innerHTML = '';\n",
              "        dataTable['output_type'] = 'display_data';\n",
              "        await google.colab.output.renderOutput(dataTable, element);\n",
              "        const docLink = document.createElement('div');\n",
              "        docLink.innerHTML = docLinkHtml;\n",
              "        element.appendChild(docLink);\n",
              "      }\n",
              "    </script>\n",
              "  </div>\n",
              "\n",
              "\n",
              "<div id=\"df-c0f7b0e4-26d6-40b2-839c-e995024c88c7\">\n",
              "  <button class=\"colab-df-quickchart\" onclick=\"quickchart('df-c0f7b0e4-26d6-40b2-839c-e995024c88c7')\"\n",
              "            title=\"Suggest charts\"\n",
              "            style=\"display:none;\">\n",
              "\n",
              "<svg xmlns=\"http://www.w3.org/2000/svg\" height=\"24px\"viewBox=\"0 0 24 24\"\n",
              "     width=\"24px\">\n",
              "    <g>\n",
              "        <path d=\"M19 3H5c-1.1 0-2 .9-2 2v14c0 1.1.9 2 2 2h14c1.1 0 2-.9 2-2V5c0-1.1-.9-2-2-2zM9 17H7v-7h2v7zm4 0h-2V7h2v10zm4 0h-2v-4h2v4z\"/>\n",
              "    </g>\n",
              "</svg>\n",
              "  </button>\n",
              "\n",
              "<style>\n",
              "  .colab-df-quickchart {\n",
              "      --bg-color: #E8F0FE;\n",
              "      --fill-color: #1967D2;\n",
              "      --hover-bg-color: #E2EBFA;\n",
              "      --hover-fill-color: #174EA6;\n",
              "      --disabled-fill-color: #AAA;\n",
              "      --disabled-bg-color: #DDD;\n",
              "  }\n",
              "\n",
              "  [theme=dark] .colab-df-quickchart {\n",
              "      --bg-color: #3B4455;\n",
              "      --fill-color: #D2E3FC;\n",
              "      --hover-bg-color: #434B5C;\n",
              "      --hover-fill-color: #FFFFFF;\n",
              "      --disabled-bg-color: #3B4455;\n",
              "      --disabled-fill-color: #666;\n",
              "  }\n",
              "\n",
              "  .colab-df-quickchart {\n",
              "    background-color: var(--bg-color);\n",
              "    border: none;\n",
              "    border-radius: 50%;\n",
              "    cursor: pointer;\n",
              "    display: none;\n",
              "    fill: var(--fill-color);\n",
              "    height: 32px;\n",
              "    padding: 0;\n",
              "    width: 32px;\n",
              "  }\n",
              "\n",
              "  .colab-df-quickchart:hover {\n",
              "    background-color: var(--hover-bg-color);\n",
              "    box-shadow: 0 1px 2px rgba(60, 64, 67, 0.3), 0 1px 3px 1px rgba(60, 64, 67, 0.15);\n",
              "    fill: var(--button-hover-fill-color);\n",
              "  }\n",
              "\n",
              "  .colab-df-quickchart-complete:disabled,\n",
              "  .colab-df-quickchart-complete:disabled:hover {\n",
              "    background-color: var(--disabled-bg-color);\n",
              "    fill: var(--disabled-fill-color);\n",
              "    box-shadow: none;\n",
              "  }\n",
              "\n",
              "  .colab-df-spinner {\n",
              "    border: 2px solid var(--fill-color);\n",
              "    border-color: transparent;\n",
              "    border-bottom-color: var(--fill-color);\n",
              "    animation:\n",
              "      spin 1s steps(1) infinite;\n",
              "  }\n",
              "\n",
              "  @keyframes spin {\n",
              "    0% {\n",
              "      border-color: transparent;\n",
              "      border-bottom-color: var(--fill-color);\n",
              "      border-left-color: var(--fill-color);\n",
              "    }\n",
              "    20% {\n",
              "      border-color: transparent;\n",
              "      border-left-color: var(--fill-color);\n",
              "      border-top-color: var(--fill-color);\n",
              "    }\n",
              "    30% {\n",
              "      border-color: transparent;\n",
              "      border-left-color: var(--fill-color);\n",
              "      border-top-color: var(--fill-color);\n",
              "      border-right-color: var(--fill-color);\n",
              "    }\n",
              "    40% {\n",
              "      border-color: transparent;\n",
              "      border-right-color: var(--fill-color);\n",
              "      border-top-color: var(--fill-color);\n",
              "    }\n",
              "    60% {\n",
              "      border-color: transparent;\n",
              "      border-right-color: var(--fill-color);\n",
              "    }\n",
              "    80% {\n",
              "      border-color: transparent;\n",
              "      border-right-color: var(--fill-color);\n",
              "      border-bottom-color: var(--fill-color);\n",
              "    }\n",
              "    90% {\n",
              "      border-color: transparent;\n",
              "      border-bottom-color: var(--fill-color);\n",
              "    }\n",
              "  }\n",
              "</style>\n",
              "\n",
              "  <script>\n",
              "    async function quickchart(key) {\n",
              "      const quickchartButtonEl =\n",
              "        document.querySelector('#' + key + ' button');\n",
              "      quickchartButtonEl.disabled = true;  // To prevent multiple clicks.\n",
              "      quickchartButtonEl.classList.add('colab-df-spinner');\n",
              "      try {\n",
              "        const charts = await google.colab.kernel.invokeFunction(\n",
              "            'suggestCharts', [key], {});\n",
              "      } catch (error) {\n",
              "        console.error('Error during call to suggestCharts:', error);\n",
              "      }\n",
              "      quickchartButtonEl.classList.remove('colab-df-spinner');\n",
              "      quickchartButtonEl.classList.add('colab-df-quickchart-complete');\n",
              "    }\n",
              "    (() => {\n",
              "      let quickchartButtonEl =\n",
              "        document.querySelector('#df-c0f7b0e4-26d6-40b2-839c-e995024c88c7 button');\n",
              "      quickchartButtonEl.style.display =\n",
              "        google.colab.kernel.accessAllowed ? 'block' : 'none';\n",
              "    })();\n",
              "  </script>\n",
              "</div>\n",
              "\n",
              "    </div>\n",
              "  </div>\n"
            ],
            "application/vnd.google.colaboratory.intrinsic+json": {
              "type": "dataframe",
              "variable_name": "df",
              "summary": "{\n  \"name\": \"df\",\n  \"rows\": 2500,\n  \"fields\": [\n    {\n      \"column\": \"customerID\",\n      \"properties\": {\n        \"dtype\": \"string\",\n        \"num_unique_values\": 2500,\n        \"samples\": [\n          \"2951-QOQTK\",\n          \"3312-UUMZW\",\n          \"3800-LYTRK\"\n        ],\n        \"semantic_type\": \"\",\n        \"description\": \"\"\n      }\n    },\n    {\n      \"column\": \"Genero\",\n      \"properties\": {\n        \"dtype\": \"category\",\n        \"num_unique_values\": 5,\n        \"samples\": [\n          \"Male\",\n          \"f\",\n          \"F\"\n        ],\n        \"semantic_type\": \"\",\n        \"description\": \"\"\n      }\n    },\n    {\n      \"column\": \"Idoso\",\n      \"properties\": {\n        \"dtype\": \"number\",\n        \"std\": 0,\n        \"min\": 0,\n        \"max\": 1,\n        \"num_unique_values\": 2,\n        \"samples\": [\n          1,\n          0\n        ],\n        \"semantic_type\": \"\",\n        \"description\": \"\"\n      }\n    },\n    {\n      \"column\": \"Casado\",\n      \"properties\": {\n        \"dtype\": \"category\",\n        \"num_unique_values\": 2,\n        \"samples\": [\n          \"No\",\n          \"Yes\"\n        ],\n        \"semantic_type\": \"\",\n        \"description\": \"\"\n      }\n    },\n    {\n      \"column\": \"Dependents\",\n      \"properties\": {\n        \"dtype\": \"category\",\n        \"num_unique_values\": 2,\n        \"samples\": [\n          \"Yes\",\n          \"No\"\n        ],\n        \"semantic_type\": \"\",\n        \"description\": \"\"\n      }\n    },\n    {\n      \"column\": \"Tempo_como_Cliente\",\n      \"properties\": {\n        \"dtype\": \"number\",\n        \"std\": 24,\n        \"min\": 0,\n        \"max\": 72,\n        \"num_unique_values\": 73,\n        \"samples\": [\n          8,\n          40\n        ],\n        \"semantic_type\": \"\",\n        \"description\": \"\"\n      }\n    },\n    {\n      \"column\": \"PhoneService\",\n      \"properties\": {\n        \"dtype\": \"category\",\n        \"num_unique_values\": 2,\n        \"samples\": [\n          \"Yes\",\n          \"No\"\n        ],\n        \"semantic_type\": \"\",\n        \"description\": \"\"\n      }\n    },\n    {\n      \"column\": \"Servico_Internet\",\n      \"properties\": {\n        \"dtype\": \"category\",\n        \"num_unique_values\": 4,\n        \"samples\": [\n          \"Fiber optic\",\n          \"No\"\n        ],\n        \"semantic_type\": \"\",\n        \"description\": \"\"\n      }\n    },\n    {\n      \"column\": \"Servico_Seguranca\",\n      \"properties\": {\n        \"dtype\": \"category\",\n        \"num_unique_values\": 3,\n        \"samples\": [\n          \"No\",\n          \"Yes\"\n        ],\n        \"semantic_type\": \"\",\n        \"description\": \"\"\n      }\n    },\n    {\n      \"column\": \"Suporte_Tecnico\",\n      \"properties\": {\n        \"dtype\": \"category\",\n        \"num_unique_values\": 3,\n        \"samples\": [\n          \"No\",\n          \"Yes\"\n        ],\n        \"semantic_type\": \"\",\n        \"description\": \"\"\n      }\n    },\n    {\n      \"column\": \"StreamingTV\",\n      \"properties\": {\n        \"dtype\": \"category\",\n        \"num_unique_values\": 3,\n        \"samples\": [\n          \"No\",\n          \"Yes\"\n        ],\n        \"semantic_type\": \"\",\n        \"description\": \"\"\n      }\n    },\n    {\n      \"column\": \"Tipo_Contrato\",\n      \"properties\": {\n        \"dtype\": \"category\",\n        \"num_unique_values\": 3,\n        \"samples\": [\n          \"Month-to-month\",\n          \"One year\"\n        ],\n        \"semantic_type\": \"\",\n        \"description\": \"\"\n      }\n    },\n    {\n      \"column\": \"PaymentMethod\",\n      \"properties\": {\n        \"dtype\": \"category\",\n        \"num_unique_values\": 4,\n        \"samples\": [\n          \"Mailed check\",\n          \"Credit card (automatic)\"\n        ],\n        \"semantic_type\": \"\",\n        \"description\": \"\"\n      }\n    },\n    {\n      \"column\": \"Pagamento_Mensal\",\n      \"properties\": {\n        \"dtype\": \"number\",\n        \"std\": 29.931520109798708,\n        \"min\": 18.4,\n        \"max\": 118.65,\n        \"num_unique_values\": 1021,\n        \"samples\": [\n          43.65,\n          66.35\n        ],\n        \"semantic_type\": \"\",\n        \"description\": \"\"\n      }\n    },\n    {\n      \"column\": \"Total_Pago\",\n      \"properties\": {\n        \"dtype\": \"number\",\n        \"std\": 2265.3477524929344,\n        \"min\": 18.8,\n        \"max\": 8564.75,\n        \"num_unique_values\": 2428,\n        \"samples\": [\n          60.65,\n          521.35\n        ],\n        \"semantic_type\": \"\",\n        \"description\": \"\"\n      }\n    },\n    {\n      \"column\": \"Churn\",\n      \"properties\": {\n        \"dtype\": \"category\",\n        \"num_unique_values\": 2,\n        \"samples\": [\n          \"Yes\",\n          \"No\"\n        ],\n        \"semantic_type\": \"\",\n        \"description\": \"\"\n      }\n    }\n  ]\n}"
            }
          },
          "metadata": {},
          "execution_count": 39
        }
      ],
      "source": [
        "#Lembrem-se sempre de alterar a importação dos dados de acordo com o diretório de vocês.\n",
        "df = pd.read_csv(\"CHURN_TELECON_MOD08_TAREFA.csv\", delimiter=';')\n",
        "\n",
        "df.head(10)"
      ]
    },
    {
      "cell_type": "markdown",
      "metadata": {
        "id": "-Cmll45c8TGu"
      },
      "source": [
        "Legenda dos dados:\n",
        "\n",
        "*   **CustomerID** : Esse é o ID único de cada cliente nosso da rede de produtos de telecomunicação.\n",
        "\n",
        "*   **Genero** : O genero dos nossos clientes.\n",
        "\n",
        "*   **Idoso** : Se nosso cliente tem acima de 60 anos ou não. (Sim = 1 | Não = 0)\n",
        "\n",
        "*   **Casado** : Se nosso cliente é casado ou não.\n",
        "\n",
        "*   **Dependents** : Se cliente tem dependentes.\n",
        "\n",
        "*   **Tempo_como_Cliente** : Tempo em meses que nosso cliente está com a nossa empresa.\n",
        "\n",
        "*   **PhoneService** : Se ele contratou serviço telefônico com a nossa empresa.\n",
        "\n",
        "*   **Servico_Internet** : Qual o tipo de serviço de internet contratado.\n",
        "\n",
        "*   **Servico_Seguranca** : Se ele contratou serviço de segurança com a nossa empresa.\n",
        "\n",
        "*   **Suporte_Tecnico** : Se já acionou o suporte técnico.\n",
        "\n",
        "*   **StreamingTV** : Se ele contratou serviço de streaming para TV.\n",
        "\n",
        "*   **Tipo_Contrato** : Qual o tipo de contrato dos nossos clientes, se era mensal, anual etc.\n",
        "\n",
        "*   **Tipo_Contrato** : Qual o tipo de contrato dos nossos clientes, se era mensal, anual etc.\n",
        "\n",
        "*   **PaymentMethod** : Forma de Pagamento.\n",
        "\n",
        "*   **Pagamento_Mensal** : Quanto o cliente pagava mensalmente.\n",
        "\n",
        "*   **Total_Pago** : Total já pago pelo cliente para nossa companhia.\n",
        "\n",
        "*   **Churn** : Nossa coluna mais importante, se nosso cliente nos abandonou ou não.\n",
        "\n",
        "\n"
      ]
    },
    {
      "cell_type": "markdown",
      "metadata": {
        "id": "2aZL5edn-Sxy"
      },
      "source": [
        "# 1 - Carregue a base, verifique se os tipos de dados estão de acordo com cada coluna e caso não estejam realize a transformação dos tipos de dados."
      ]
    },
    {
      "cell_type": "code",
      "execution_count": 40,
      "metadata": {
        "id": "uVbeG6vJ-ao3",
        "colab": {
          "base_uri": "https://localhost:8080/"
        },
        "outputId": "fe24c734-1768-4fed-bb2f-45ad40a01db4"
      },
      "outputs": [
        {
          "output_type": "stream",
          "name": "stdout",
          "text": [
            "Tipos de dados antes da transformação:\n",
            "customerID             object\n",
            "Genero                 object\n",
            "Idoso                   int64\n",
            "Casado                 object\n",
            "Dependents             object\n",
            "Tempo_como_Cliente      int64\n",
            "PhoneService           object\n",
            "Servico_Internet       object\n",
            "Servico_Seguranca      object\n",
            "Suporte_Tecnico        object\n",
            "StreamingTV            object\n",
            "Tipo_Contrato          object\n",
            "PaymentMethod          object\n",
            "Pagamento_Mensal      float64\n",
            "Total_Pago            float64\n",
            "Churn                  object\n",
            "dtype: object\n",
            "\n",
            "Tipos de dados depois da transformação:\n",
            "customerID              object\n",
            "Genero                category\n",
            "Idoso                     bool\n",
            "Casado                    bool\n",
            "Dependents                bool\n",
            "Tempo_como_Cliente       int64\n",
            "PhoneService            object\n",
            "Servico_Internet      category\n",
            "Servico_Seguranca       object\n",
            "Suporte_Tecnico         object\n",
            "StreamingTV             object\n",
            "Tipo_Contrato         category\n",
            "PaymentMethod         category\n",
            "Pagamento_Mensal       float64\n",
            "Total_Pago             float64\n",
            "Churn                   object\n",
            "dtype: object\n"
          ]
        }
      ],
      "source": [
        "# Mostrar tipos antes da transformação\n",
        "print(\"Tipos de dados antes da transformação:\")\n",
        "print(df.dtypes)\n",
        "\n",
        "# Converter colunas binárias para booleano (Sim/Não)\n",
        "df['Idoso'] = df['Idoso'].astype(bool)  # 0 -> False, 1 -> True\n",
        "df['Casado'] = df['Casado'].map({'Yes': True, 'No': False})\n",
        "df['Dependents'] = df['Dependents'].map({'Yes': True, 'No': False})\n",
        "df['PhoneService'] = df['PhoneService'].map({'Yes': True, 'No': False})\n",
        "df['Servico_Seguranca'] = df['Servico_Seguranca'].map({'Yes': True, 'No': False})\n",
        "df['Suporte_Tecnico'] = df['Suporte_Tecnico'].map({'Yes': True, 'No': False})\n",
        "df['StreamingTV'] = df['StreamingTV'].map({'Yes': True, 'No': False})\n",
        "df['Churn'] = df['Churn'].map({'Yes': True, 'No': False})\n",
        "\n",
        "# Converter colunas para categoria onde há múltiplas opções\n",
        "df['Genero'] = df['Genero'].astype('category')\n",
        "df['Servico_Internet'] = df['Servico_Internet'].astype('category')\n",
        "df['Tipo_Contrato'] = df['Tipo_Contrato'].astype('category')\n",
        "df['PaymentMethod'] = df['PaymentMethod'].astype('category')\n",
        "\n",
        "# Mostrar tipos depois da transformação\n",
        "print(\"\\nTipos de dados depois da transformação:\")\n",
        "print(df.dtypes)\n"
      ]
    },
    {
      "cell_type": "markdown",
      "source": [
        "### Justificativas\n",
        "\n",
        "**Conversão de colunas booleanas:** Colunas com respostas binárias, como \"Idoso\", \"Casado\", \"Dependents\", \"PhoneService\", \"Servico_Seguranca\", \"Suporte_Tecnico\", \"StreamingTV\" e \"Churn\", foram convertidas para valores booleanos (True/False). Esse tipo de conversão facilita a manipulação e análise, permitindo que esses campos sejam tratados como variáveis lógicas, o que é adequado para dados que representam presença/ausência ou respostas afirmativas/negativas.\n",
        "\n",
        "**Conversão de colunas categóricas:** Colunas com múltiplas categorias distintas, como \"Genero\", \"Servico_Internet\", \"Tipo_Contrato\" e \"PaymentMethod\", foram convertidas para o tipo categoria. Isso é mais eficiente em termos de memória e processamento, pois o tipo categórico ocupa menos espaço e agiliza operações analíticas. Essa abordagem é adequada para variáveis nominais, nas quais cada valor representa uma categoria sem ordem implícita.\n",
        "\n",
        "**Manutenção do formato numérico:** Colunas numéricas como \"Pagamento_Mensal\" e \"Total_Pago\" estão no formato float64, que é ideal para dados financeiros devido à sua precisão e capacidade de lidar com casas decimais. Esse formato foi mantido para assegurar cálculos financeiros precisos.\n"
      ],
      "metadata": {
        "id": "hqzwcJo3T-Of"
      }
    },
    {
      "cell_type": "markdown",
      "metadata": {
        "id": "cu4kjiXn_w9t"
      },
      "source": [
        "# 2 - Esse exercício faremos por etapas:\n",
        "A) Verifique se temos colunas com dados faltantes e traga a % dos dados faltantes por coluna."
      ]
    },
    {
      "cell_type": "code",
      "execution_count": 41,
      "metadata": {
        "id": "nNYLgakRDPr2",
        "colab": {
          "base_uri": "https://localhost:8080/"
        },
        "outputId": "ad4dabde-3cf6-43fb-aa2d-fa15cbc3440c"
      },
      "outputs": [
        {
          "output_type": "stream",
          "name": "stdout",
          "text": [
            "Porcentagem de dados faltantes por coluna:\n",
            "Genero                0.48\n",
            "PhoneService         59.28\n",
            "Servico_Seguranca    21.12\n",
            "Suporte_Tecnico      21.12\n",
            "StreamingTV          21.12\n",
            "Pagamento_Mensal     13.00\n",
            "Churn                 0.20\n",
            "dtype: float64\n"
          ]
        }
      ],
      "source": [
        "# A) Verifique se temos colunas com dados faltantes e traga a % dos dados faltantes por coluna.\n",
        "missing_data = df.isnull().mean() * 100\n",
        "print(\"Porcentagem de dados faltantes por coluna:\")\n",
        "print(missing_data[missing_data > 0])"
      ]
    },
    {
      "cell_type": "markdown",
      "metadata": {
        "id": "HzzZHCVO_8b9"
      },
      "source": [
        "B) Exclua nessa etapa as linhas das colunas com dados faltantes que você analisar que esse método é o ideal. Justifique o motivo de estar excluindo essas linhas."
      ]
    },
    {
      "cell_type": "code",
      "execution_count": 42,
      "metadata": {
        "id": "bDZTgNy8ECwu",
        "colab": {
          "base_uri": "https://localhost:8080/"
        },
        "outputId": "e01bc3e0-399f-4778-cfd8-ab2bd48d5dd1"
      },
      "outputs": [
        {
          "output_type": "stream",
          "name": "stdout",
          "text": [
            "Linhas restantes após exclusão: 2495\n"
          ]
        }
      ],
      "source": [
        "# Definindo as colunas onde a ausência de dados resulta na exclusão de linhas\n",
        "colunas_exclusao = ['customerID', 'Churn', 'Tempo_como_Cliente']\n",
        "\n",
        "# Excluindo as linhas onde há dados faltantes nas colunas selecionadas\n",
        "df = df.dropna(subset=colunas_exclusao)\n",
        "\n",
        "print(f\"Linhas restantes após exclusão: {df.shape[0]}\")\n"
      ]
    },
    {
      "cell_type": "markdown",
      "source": [
        "### Justificativas para Exclusão de Linhas com Dados Faltantes em Algumas Colunas\n",
        "\n",
        "**CustomerID:** Como esse campo é um identificador único, é fundamental para diferenciar os clientes. Linhas com valores ausentes aqui seriam excluídas, pois não temos como identificar a qual cliente pertencem esses dados, comprometendo a integridade do registro.\n",
        "\n",
        "**Churn:** Essa é a nossa variável alvo para entender se o cliente deixou ou não a empresa, essencial em análises preditivas de retenção. Se valores estão ausentes nesta coluna, eles devem ser removidos, pois não contribuem para o aprendizado do modelo.\n",
        "\n",
        "**Tempo_como_Cliente:** Esse campo é importante para entender a fidelidade e o histórico do cliente com a empresa, sendo um indicador importante para análises de churn. Linhas sem esse dado podem ser excluídas, uma vez que a ausência desse histórico compromete a análise.\n"
      ],
      "metadata": {
        "id": "K_1AeLAhXqrO"
      }
    },
    {
      "cell_type": "markdown",
      "metadata": {
        "id": "plAEzGoMAP16"
      },
      "source": [
        "C) Nessa etapa substitua pela média, mediana ou moda as linhas das colunas com valores faltantes que você analisou e entendeu que esse era o melhor método. Não se esqueça de justificar sua escolha."
      ]
    },
    {
      "cell_type": "markdown",
      "metadata": {
        "id": "9S7O7GzoEevG"
      },
      "source": [
        "**Dica variáveis numéricas:** Não se esqueça de verificar a distrbuição dos dados, média e mediana."
      ]
    },
    {
      "cell_type": "markdown",
      "metadata": {
        "id": "MuhfrNV5FGDY"
      },
      "source": [
        "**Dica variáveis categóricas:** Caso precise substituir uma variável categórica utilize um gráfico de barras para verificar a que mais aparece e utilizar ela na substituição.\n",
        "Ou você pode optar por excluir a coluna, mas justifique sua escolha.\n",
        "\n",
        "Caso opte por substituir você pode utilizar a função fillna:\n",
        "df['SUACOLUNA'].fillna(\"VALOR QUE SUBSTITUIRA O NULO\", inplace=True)\n",
        "Ela funcionará como a replace."
      ]
    },
    {
      "cell_type": "markdown",
      "source": [
        "### Escolha entre Média, Mediana e Moda para Substituir Valores Faltantes\n",
        "\n",
        "A escolha entre média, mediana e moda para substituir valores faltantes em um DataFrame depende da distribuição dos dados e da natureza dos dados. Aqui está um guia sobre como decidir qual estatística usar, junto com um exemplo prático de como verificar a distribuição dos dados.\n",
        "\n",
        "1. **Média**\n",
        "   - **Quando usar:** A média é apropriada quando a distribuição dos dados é simétrica e não tem outliers significativos. Ela representa bem o centro dos dados em uma distribuição normal.\n",
        "   - **Cuidado:** A média é sensível a outliers, o que pode distorcer a representação do dado.\n",
        "\n",
        "2. **Mediana**\n",
        "   - **Quando usar:** A mediana é mais robusta e deve ser usada em distribuições assimétricas ou quando há outliers. Ela divide o conjunto de dados ao meio, representando o valor central.\n",
        "   - **Cuidado:** A mediana pode não representar bem conjuntos de dados que são simétricos e não têm outliers, onde a média seria mais informativa.\n",
        "\n",
        "3. **Moda**\n",
        "   - **Quando usar:** A moda é útil para dados categóricos ou quando se deseja identificar a categoria mais comum. É a única medida que pode ser usada para dados nominais.\n",
        "   - **Cuidado:** A moda pode ser menos informativa em conjuntos de dados com muitas categorias ou quando não há uma categoria predominante.\n"
      ],
      "metadata": {
        "id": "VCqa3XIoqsZQ"
      }
    },
    {
      "cell_type": "markdown",
      "source": [
        "### Decisão\n",
        "\n",
        "- Se a distribuição for simétrica e não tiver outliers, a média é uma boa escolha.\n",
        "- Se a distribuição for assimétrica ou apresentar outliers, escolha a mediana.\n",
        "- Para dados categóricos, sempre utilize a moda.\n"
      ],
      "metadata": {
        "id": "22gxdSR_qCB3"
      }
    },
    {
      "cell_type": "code",
      "execution_count": 43,
      "metadata": {
        "id": "f9xdpik_ERw1",
        "colab": {
          "base_uri": "https://localhost:8080/",
          "height": 985
        },
        "outputId": "88521124-6db7-4646-9417-56e11bd4b4fc"
      },
      "outputs": [
        {
          "output_type": "display_data",
          "data": {
            "text/plain": [
              "<Figure size 1200x500 with 2 Axes>"
            ],
            "image/png": "[encoded data removed]"
          },
          "metadata": {}
        },
        {
          "output_type": "display_data",
          "data": {
            "text/plain": [
              "<Figure size 1200x500 with 2 Axes>"
            ],
            "image/png": "[encoded data removed]"
          },
          "metadata": {}
        }
      ],
      "source": [
        "# Configurando o estilo do gráfico\n",
        "sns.set(style=\"whitegrid\")\n",
        "\n",
        "# Criando uma figura com subplots\n",
        "plt.figure(figsize=(12, 5))\n",
        "\n",
        "# Gráfico para Pagamento_Mensal\n",
        "plt.subplot(1, 2, 1)\n",
        "sns.histplot(df['Pagamento_Mensal'], bins=30, kde=True)\n",
        "plt.title('Distribuição de Pagamento_Mensal')\n",
        "\n",
        "# Boxplot para Pagamento_Mensal\n",
        "plt.subplot(1, 2, 2)\n",
        "sns.boxplot(x=df['Pagamento_Mensal'])\n",
        "plt.title('Boxplot de Pagamento_Mensal')\n",
        "\n",
        "plt.tight_layout()\n",
        "plt.show()\n",
        "\n",
        "# Repetir para Total_Pago\n",
        "plt.figure(figsize=(12, 5))\n",
        "\n",
        "# Gráfico para Total_Pago\n",
        "plt.subplot(1, 2, 1)\n",
        "sns.histplot(df['Total_Pago'], bins=30, kde=True)\n",
        "plt.title('Distribuição de Total_Pago')\n",
        "\n",
        "# Boxplot para Total_Pago\n",
        "plt.subplot(1, 2, 2)\n",
        "sns.boxplot(x=df['Total_Pago'])\n",
        "plt.title('Boxplot de Total_Pago')\n",
        "\n",
        "plt.tight_layout()\n",
        "plt.show()"
      ]
    },
    {
      "cell_type": "markdown",
      "source": [
        "### Análise e Justificativas para Substituição\n",
        "\n",
        "#### Colunas Numéricas:\n",
        "\n",
        "- **Pagamento_Mensal e Total_Pago**: Para essas colunas, vamos analisar a distribuição dos dados usando gráficos e estatísticas descritivas. Se a distribuição for simétrica, a média pode ser utilizada, enquanto que, se a distribuição for assimétrica, a mediana é mais apropriada, pois é menos afetada por outliers.\n"
      ],
      "metadata": {
        "id": "NCA7_by7rByA"
      }
    },
    {
      "cell_type": "code",
      "source": [
        "# Iterando sobre as colunas do DataFrame\n",
        "for col in df.columns:\n",
        "    if df[col].dtype in ['object', 'category', 'bool']:  # Verifica se a coluna é do tipo object ou category ou bool\n",
        "        moda = df[col].mode()[0]  # Calcula a moda\n",
        "        # Substitui valores faltantes pela moda usando .loc\n",
        "        df.loc[df[col].isnull(), col] = moda\n",
        "\n",
        "# Para variáveis numéricas, substituímos por mediana usando .loc\n",
        "num_cols = df.select_dtypes(include=['float64', 'int64']).columns\n",
        "for col in num_cols:\n",
        "    median_value = df[col].median()  # Calcula a mediana\n",
        "    df.loc[df[col].isnull(), col] = median_value  # Substitui valores faltantes pela mediana"
      ],
      "metadata": {
        "id": "yN61uKTTu1Mg"
      },
      "execution_count": 44,
      "outputs": []
    },
    {
      "cell_type": "markdown",
      "source": [
        "#### Colunas não numéricas:\n",
        "\n",
        "Para essas colunas, devemos verificar a frequência de cada categoria e substituir os valores faltantes pela moda, que é a categoria mais comum.\n"
      ],
      "metadata": {
        "id": "OFHjNxFrrY8g"
      }
    },
    {
      "cell_type": "markdown",
      "source": [
        "### Justificativa Geral para Substituições\n",
        "\n",
        "- **Média/Mediana para Variáveis Numéricas:** A mediana foi escolhida para substituir os valores faltantes em colunas numéricas devido à sua robustez contra outliers. Ela fornece uma representação mais precisa da tendência central quando os dados têm uma distribuição assimétrica.\n",
        "\n",
        "- **Moda para Variáveis Categóricas:** A moda foi utilizada para colunas categóricas, pois representa a categoria mais frequente, o que é mais representativo para dados com valores discretos. Isso mantém a consistência dos dados e evita a perda de informações que poderia ocorrer ao remover linhas.\n"
      ],
      "metadata": {
        "id": "7gEi7PJgrgHI"
      }
    },
    {
      "cell_type": "markdown",
      "metadata": {
        "id": "KyM7bzIWAevH"
      },
      "source": [
        "# 3 - Verifique se encontramos valores digitados incorretamente, ou com letras maiusculas ou minusculas, ou até mesmo mesmos valores porém escritos de forma dirente e corrija."
      ]
    },
    {
      "cell_type": "code",
      "execution_count": 50,
      "metadata": {
        "id": "pBLJpzXXGTcq",
        "colab": {
          "base_uri": "https://localhost:8080/"
        },
        "outputId": "8ce8966b-0575-4519-cb55-e923f09d791b"
      },
      "outputs": [
        {
          "output_type": "stream",
          "name": "stdout",
          "text": [
            "Valores únicos em 'customerID': ['7590-VHVEG' '5575-GNVDE' '3668-QPYBK' ... '5702-SKUOB' '1134-YWTYF'\n",
            " '6061-GWWAV']\n",
            "Valores únicos em 'Genero': ['female', 'male']\n",
            "Categories (7, object): ['F', 'Female', 'M', 'Male', 'f', 'female', 'male']\n",
            "Valores únicos em 'PhoneService': [False True]\n",
            "Valores únicos em 'Servico_Internet': ['dsl' 'fiber optic' 'no']\n",
            "Valores únicos em 'Servico_Seguranca': [False True]\n",
            "Valores únicos em 'Suporte_Tecnico': [False True]\n",
            "Valores únicos em 'StreamingTV': [False True]\n",
            "Valores únicos em 'Tipo_Contrato': ['month-to-month' 'one year' 'two year']\n",
            "Valores únicos em 'PaymentMethod': ['electronic check' 'mailed check' 'bank transfer (automatic)'\n",
            " 'credit card (automatic)']\n",
            "Valores únicos em 'Churn': [False True]\n",
            "Valores únicos corrigidos em 'customerID': ['7590-VHVEG' '5575-GNVDE' '3668-QPYBK' ... '5702-SKUOB' '1134-YWTYF'\n",
            " '6061-GWWAV']\n",
            "Valores únicos corrigidos em 'Genero': ['female' 'male']\n",
            "Valores únicos corrigidos em 'PhoneService': [False True]\n",
            "Valores únicos corrigidos em 'Servico_Internet': ['dsl' 'fiber optic' 'no']\n",
            "Valores únicos corrigidos em 'Servico_Seguranca': [False True]\n",
            "Valores únicos corrigidos em 'Suporte_Tecnico': [False True]\n",
            "Valores únicos corrigidos em 'StreamingTV': [False True]\n",
            "Valores únicos corrigidos em 'Tipo_Contrato': ['month-to-month' 'one year' 'two year']\n",
            "Valores únicos corrigidos em 'PaymentMethod': ['electronic check' 'mailed check' 'bank transfer (automatic)'\n",
            " 'credit card (automatic)']\n",
            "Valores únicos corrigidos em 'Churn': [False True]\n"
          ]
        }
      ],
      "source": [
        "# Dicionário para armazenar valores únicos\n",
        "unique_values = {}\n",
        "\n",
        "# Iterando sobre as colunas do DataFrame\n",
        "for col in df.columns:\n",
        "    if df[col].dtype in ['object', 'category']:  # Verifica se a coluna é do tipo object ou category\n",
        "        unique_values[col] = df[col].unique()  # Armazena os valores únicos da coluna\n",
        "\n",
        "# Exibindo os valores únicos\n",
        "for col, values in unique_values.items():\n",
        "    print(f\"Valores únicos em '{col}': {values}\")\n",
        "\n",
        "# Corrigindo valores da coluna 'Genero'\n",
        "df['Genero'] = df['Genero'].str.lower()  # Converte todos os valores para minúsculas\n",
        "df.loc[df['Genero'].isin(['f', 'female']), 'Genero'] = 'female'\n",
        "df.loc[df['Genero'].isin(['m', 'male']), 'Genero'] = 'male'\n",
        "\n",
        "# Corrigindo valores da coluna 'Servico_Internet'\n",
        "df['Servico_Internet'] = df['Servico_Internet'].str.lower()  # Converte para minúsculas\n",
        "df['Servico_Internet'] = df['Servico_Internet'].replace({'no': 'no', 'dsl': 'dsl', 'fiber optic': 'fiber optic'})  # Substitui os valores\n",
        "\n",
        "# Corrigindo valores da coluna 'Tipo_Contrato'\n",
        "df['Tipo_Contrato'] = df['Tipo_Contrato'].str.lower()  # Converte para minúsculas\n",
        "df['Tipo_Contrato'] = df['Tipo_Contrato'].replace({'month-to-month': 'month-to-month', 'one year': 'one year', 'two year': 'two year'})  # Substitui os valores\n",
        "\n",
        "# Corrigindo valores da coluna 'PaymentMethod'\n",
        "df['PaymentMethod'] = df['PaymentMethod'].str.lower()  # Converte para minúsculas\n",
        "df['PaymentMethod'] = df['PaymentMethod'].replace({\n",
        "    'electronic check': 'electronic check',\n",
        "    'mailed check': 'mailed check',\n",
        "    'bank transfer (automatic)': 'bank transfer (automatic)',\n",
        "    'credit card (automatic)': 'credit card (automatic)'\n",
        "})  # Substitui os valores\n",
        "\n",
        "# Checando os valores únicos após as correções\n",
        "for col in df.columns:\n",
        "    if df[col].dtype in ['object', 'category']:\n",
        "        print(f\"Valores únicos corrigidos em '{col}': {df[col].unique()}\")\n"
      ]
    },
    {
      "cell_type": "markdown",
      "metadata": {
        "id": "C-2vJktpA0r7"
      },
      "source": [
        "# [EXTRA] 4 - Caso deseje, para manter um padrão na sua base, renomeie as colunas ou deixando como esta"
      ]
    },
    {
      "cell_type": "code",
      "source": [
        "# Dicionário de renomeação para inglês\n",
        "new_column_names = {\n",
        "    'customerID': 'CustomerID',\n",
        "    'Genero': 'Gender',\n",
        "    'Idoso': 'IsElderly',\n",
        "    'Casado': 'IsMarried',\n",
        "    'Dependents': 'HasDependents',\n",
        "    'Tempo_como_Cliente': 'Tenure',\n",
        "    'PhoneService': 'PhoneService',\n",
        "    'Servico_Internet': 'InternetService',\n",
        "    'Servico_Seguranca': 'SecurityService',\n",
        "    'Suporte_Tecnico': 'TechnicalSupport',\n",
        "    'StreamingTV': 'StreamingTV',\n",
        "    'Tipo_Contrato': 'ContractType',\n",
        "    'PaymentMethod': 'PaymentMethod',\n",
        "    'Pagamento_Mensal': 'MonthlyPayment',\n",
        "    'Total_Pago': 'TotalPaid',\n",
        "    'Churn': 'Churn'\n",
        "}\n",
        "\n",
        "# Renomeando as colunas\n",
        "df.rename(columns=new_column_names, inplace=True)\n"
      ],
      "metadata": {
        "id": "8DTXFFmrx5tp"
      },
      "execution_count": 51,
      "outputs": []
    },
    {
      "cell_type": "markdown",
      "source": [
        "### Vantagens de Usar uma Só Língua\n",
        "\n",
        "- **Consistência:** Facilita a leitura e interpretação dos dados, especialmente se outras pessoas que falam diferentes idiomas trabalharem com você.\n",
        "- **Clareza:** A utilização de uma única língua evita confusões que podem surgir com termos em diferentes idiomas.\n"
      ],
      "metadata": {
        "id": "MEAobz2Lx9AJ"
      }
    }
  ],
  "metadata": {
    "colab": {
      "provenance": []
    },
    "kernelspec": {
      "display_name": "Python 3 (ipykernel)",
      "language": "python",
      "name": "python3"
    },
    "language_info": {
      "codemirror_mode": {
        "name": "ipython",
        "version": 3
      },
      "file_extension": ".py",
      "mimetype": "text/x-python",
      "name": "python",
      "nbconvert_exporter": "python",
      "pygments_lexer": "ipython3",
      "version": "3.10.6"
    }
  },
  "nbformat": 4,
  "nbformat_minor": 0
}