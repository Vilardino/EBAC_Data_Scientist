{
  "nbformat": 4,
  "nbformat_minor": 0,
  "metadata": {
    "colab": {
      "provenance": []
    },
    "kernelspec": {
      "name": "python3",
      "display_name": "Python 3"
    },
    "language_info": {
      "name": "python"
    }
  },
  "cells": [
    {
      "cell_type": "markdown",
      "source": [
        "# Enunciado\n",
        "\n",
        "\n",
        "1. Utilize o comando ‘input’ para receber ao menos 2 números de entrada do usuário;\n",
        "\n",
        "2. Converta os valores recebidos pelo usuário para número inteiro (int) ou ponto flutuante (float);\n",
        "\n",
        "3. Implemente ao menos 4 operações matemáticas em seu código;\n",
        "\n",
        "4. Adicione um laço de repetição ou uma condicional. Por exemplo: você pode permitir que o usuário escolha qual operação realizar ou criar um loop que permita ao usuário realizar várias operações consecutivas;\n",
        "\n",
        "5. Utilize o comando ‘print’ para exibir o resultado da operação matemática."
      ],
      "metadata": {
        "id": "amFdsvk-gAw_"
      }
    },
    {
      "cell_type": "code",
      "execution_count": 1,
      "metadata": {
        "colab": {
          "base_uri": "https://localhost:8080/"
        },
        "id": "DptcoFcwepNs",
        "outputId": "59dcf949-3a88-46d7-97bb-66f7d4dfc9ec"
      },
      "outputs": [
        {
          "name": "stdout",
          "output_type": "stream",
          "text": [
            "Digite o primeiro número: 2\n",
            "Digite o segundo número: 5\n",
            "Escolha a operação:\n",
            "1. Adição\n",
            "2. Subtração\n",
            "3. Multiplicação\n",
            "4. Divisão\n",
            "Digite o número da operação desejada (1/2/3/4): 3\n",
            "O resultado da multiplicação é: 10.0\n",
            "Deseja realizar outra operação? (s/n): n\n"
          ]
        }
      ],
      "source": [
        "def calculadora():\n",
        "    while True:\n",
        "        # Passo 1: Receber ao menos 2 números de entrada do usuário\n",
        "        num1 = float(input(\"Digite o primeiro número: \"))\n",
        "        num2 = float(input(\"Digite o segundo número: \"))\n",
        "\n",
        "        # Passo 3: Implementar ao menos 4 operações matemáticas\n",
        "        print(\"Escolha a operação:\")\n",
        "        print(\"1. Adição\")\n",
        "        print(\"2. Subtração\")\n",
        "        print(\"3. Multiplicação\")\n",
        "        print(\"4. Divisão\")\n",
        "        operacao = input(\"Digite o número da operação desejada (1/2/3/4): \")\n",
        "\n",
        "        # Passo 4: Adicionar uma condicional para escolher a operação\n",
        "        if operacao == '1':\n",
        "            resultado = num1 + num2\n",
        "            print(f\"O resultado da adição é: {resultado}\")\n",
        "        elif operacao == '2':\n",
        "            resultado = num1 - num2\n",
        "            print(f\"O resultado da subtração é: {resultado}\")\n",
        "        elif operacao == '3':\n",
        "            resultado = num1 * num2\n",
        "            print(f\"O resultado da multiplicação é: {resultado}\")\n",
        "        elif operacao == '4':\n",
        "            if num2 != 0:\n",
        "                resultado = num1 / num2\n",
        "                print(f\"O resultado da divisão é: {resultado}\")\n",
        "            else:\n",
        "                print(\"Erro: Divisão por zero não é permitida.\")\n",
        "        else:\n",
        "            print(\"Operação inválida. Tente novamente.\")\n",
        "\n",
        "        # Perguntar ao usuário se deseja realizar outra operação\n",
        "        continuar = input(\"Deseja realizar outra operação? (s/n): \")\n",
        "        if continuar.lower() != 's':\n",
        "            break\n",
        "\n",
        "# Chamar a função calculadora\n",
        "calculadora()\n"
      ]
    }
  ]
}