{
  "cells": [
    {
      "cell_type": "markdown",
      "metadata": {
        "id": "lvRbB9YTnI2b"
      },
      "source": [
        "# **MÓDULO 20 - Projeto de Credit Score - Naive Bayes**\n"
      ]
    },
    {
      "cell_type": "markdown",
      "metadata": {
        "id": "2zVrW4i5npnM"
      },
      "source": [
        "No módulo 17 vocês realizaram a primeira etapa do projeto de crédito de vocês.\n",
        "Então fizeram o tratamendo dos dados, balancearam as classes, transformaram as variáveis categóricas e separam base de treino e teste.\n",
        "Nessa aula aplicaremos o algoritmo de naive bayes a base de vocês afim de tentarmos trazer previsões do score de crédito."
      ]
    },
    {
      "cell_type": "markdown",
      "metadata": {
        "id": "1nq9f0l2oP0W"
      },
      "source": [
        "**IMPORTANTE:** Não se esqueçam de ao enviar o código de vocês para os tutores, enviarem as bases, pois como cada um de vocês realizou as alterações de tratamento indidualmente o tutor precisa ter acesso aos seus dados individuais."
      ]
    },
    {
      "cell_type": "code",
      "execution_count": 7,
      "metadata": {
        "id": "M90JWP5pmrea"
      },
      "outputs": [],
      "source": [
        "import pandas as pd\n",
        "import numpy as np\n",
        "import seaborn as sns\n",
        "import matplotlib.pyplot as plt\n",
        "from sklearn.metrics import confusion_matrix\n",
        "from sklearn.naive_bayes import GaussianNB\n",
        "from sklearn.metrics import accuracy_score\n",
        "from sklearn.metrics import recall_score\n",
        "from sklearn.preprocessing import LabelEncoder\n",
        "from imblearn.over_sampling import SMOTE\n",
        "from collections import Counter"
      ]
    },
    {
      "cell_type": "markdown",
      "metadata": {
        "id": "C7R8dM-vokBB"
      },
      "source": [
        "Durante a aula nossa variável a ser prevista (churn) continha apenas 2 categorias, a base de vocês contém mais. O Naive Bayes pode ser aplicado para problemas de classificação com múltiplas classes da mesma forma que para problemas de classificação binária. O Naive Bayes é um algoritmo de classificação probabilístico que calcula a probabilidade de uma amostra pertencer a cada classe e seleciona a classe com a maior probabilidade como a previsão final.\n",
        "Em resumo, o Naive Bayes pode ser aplicado da mesma maneira para problemas de classificação com múltiplas classes, e os mesmos princípios se aplicam em termos de treinamento, avaliação e aplicação do modelo."
      ]
    },
    {
      "cell_type": "markdown",
      "metadata": {
        "id": "EbxeVNuirXtI"
      },
      "source": [
        "# 1) Comece carregando as bases de treino (X e y) e teste (X e y).\n",
        "Verifique se o número de linhas condiz, se as variáveis estão corretas sendo apenas a de score para y e as demais nas bases de X e por último, se Y está balanceada no teste."
      ]
    },
    {
      "cell_type": "code",
      "execution_count": 8,
      "metadata": {
        "id": "sKOiJU6WrsA_",
        "colab": {
          "base_uri": "https://localhost:8080/"
        },
        "outputId": "713cb47e-82d8-4b26-bb6b-7d58cd390f69"
      },
      "outputs": [
        {
          "output_type": "stream",
          "name": "stdout",
          "text": [
            "Dimensões de X: (130, 7)\n",
            "Dimensões de y: (130,)\n",
            "Distribuição das classes em y:\n",
            "Credit Score\n",
            "High       0.676923\n",
            "Average    0.238462\n",
            "Low        0.084615\n",
            "Name: proportion, dtype: float64\n",
            "Dimensões de X_train: (104, 7)\n",
            "Dimensões de X_test: (26, 7)\n",
            "Dimensões de y_train: (104,)\n",
            "Dimensões de y_test: (26,)\n",
            "Distribuição de classes em y_train:\n",
            "Credit Score\n",
            "High       0.673077\n",
            "Average    0.240385\n",
            "Low        0.086538\n",
            "Name: proportion, dtype: float64\n",
            "Distribuição de classes em y_test:\n",
            "Credit Score\n",
            "High       0.692308\n",
            "Average    0.230769\n",
            "Low        0.076923\n",
            "Name: proportion, dtype: float64\n"
          ]
        }
      ],
      "source": [
        "from sklearn.model_selection import train_test_split\n",
        "\n",
        "# Carregar o arquivo CSV\n",
        "df = pd.read_csv(\"df_final_17.csv\")\n",
        "\n",
        "# Separar as variáveis independentes (X) e a variável dependente (y)\n",
        "y = df['Credit Score']\n",
        "X = df.drop(columns=['Credit Score'])\n",
        "\n",
        "# Verificar as dimensões de X e y\n",
        "print(\"Dimensões de X:\", X.shape)\n",
        "print(\"Dimensões de y:\", y.shape)\n",
        "\n",
        "# Verificar se as categorias em y estão balanceadas\n",
        "print(\"Distribuição das classes em y:\")\n",
        "print(y.value_counts(normalize=True))\n",
        "\n",
        "# Dividir o dataset em treino e teste (caso ainda não tenha sido feito)\n",
        "X_train, X_test, y_train, y_test = train_test_split(X, y, test_size=0.2, random_state=42, stratify=y)\n",
        "\n",
        "# Confirmar as dimensões após a divisão\n",
        "print(\"Dimensões de X_train:\", X_train.shape)\n",
        "print(\"Dimensões de X_test:\", X_test.shape)\n",
        "print(\"Dimensões de y_train:\", y_train.shape)\n",
        "print(\"Dimensões de y_test:\", y_test.shape)\n",
        "\n",
        "# Balanceamento nas bases de treino e teste\n",
        "print(\"Distribuição de classes em y_train:\")\n",
        "print(y_train.value_counts(normalize=True))\n",
        "\n",
        "print(\"Distribuição de classes em y_test:\")\n",
        "print(y_test.value_counts(normalize=True))\n"
      ]
    },
    {
      "cell_type": "markdown",
      "source": [
        "## Verificação das Dimensões das Bases\n",
        "\n",
        "Realizei inicialmente a verificação das **dimensões das bases**. A base de variáveis independentes, **X**, possui **130 linhas e 7 colunas**, enquanto a variável dependente, **y**, apresenta **130 linhas**. Isso indica que o número de observações está consistente entre as duas bases.\n",
        "\n",
        "## Distribuição das Classes na Variável Credit Score\n",
        "\n",
        "Em seguida, analisei a **distribuição das classes** na variável **Credit Score** de **y**, que contém três categorias:\n",
        "\n",
        "- **High**: 67,69%\n",
        "- **Average**: 23,85%\n",
        "- **Low**: 8,46%\n",
        "\n",
        "Essa análise revelou que as classes estão desbalanceadas, com uma predominância expressiva da classe **High**.\n",
        "\n",
        "## Divisão das Bases de Treino e Teste\n",
        "\n",
        "Após essa etapa, avaliei a **divisão das bases de treino e teste**. A base de treino foi composta por **104 observações (80%)** e a de teste por **26 (20%)**, valores apropriados para treinamento e validação do modelo.\n",
        "\n",
        "## Distribuição das Classes nas Bases de Treino e Teste\n",
        "\n",
        "Por fim, examinei as distribuições das classes em cada base. As proporções de **y_train** e **y_test** estão bastante próximas das proporções originais, o que indica que a divisão foi realizada de maneira representativa:\n",
        "\n",
        "- **Base de Treino (y_train):**\n",
        "  - **High**: 67,31%\n",
        "  - **Average**: 24,04%\n",
        "  - **Low**: 8,65%\n",
        "\n",
        "- **Base de Teste (y_test):**\n",
        "  - **High**: 69,23%\n",
        "  - **Average**: 23,08%\n",
        "  - **Low**: 7,69%\n",
        "\n",
        "## Conclusão\n",
        "\n",
        "Concluo que as bases foram corretamente estruturadas e representam adequadamente os dados originais. Contudo, dado o desbalanceamento das classes, pode ser necessário aplicar técnicas de balanceamento, como **oversampling** ou **undersampling**, para melhorar o desempenho do modelo ao lidar com a classe minoritária.\n"
      ],
      "metadata": {
        "id": "BtTF-ZK7I1hk"
      }
    },
    {
      "cell_type": "code",
      "source": [
        "# Codificar variáveis categóricas em X_train usando LabelEncoder\n",
        "X_train_encoded = X_train.copy()\n",
        "label_encoders = {}\n",
        "\n",
        "# Codificando todas as variáveis categóricas em X_train\n",
        "for column in X_train_encoded.select_dtypes(include=['object', 'category']).columns:\n",
        "    le = LabelEncoder()\n",
        "    X_train_encoded[column] = le.fit_transform(X_train_encoded[column])\n",
        "    label_encoders[column] = le  # Salvar o encoder para possível decodificação\n",
        "\n",
        "# Codificar y_train com LabelEncoder\n",
        "y_train_encoded = LabelEncoder().fit_transform(y_train)\n",
        "\n",
        "# Verificar a distribuição original das classes em y_train\n",
        "print(\"Distribuição original das classes em y_train:\")\n",
        "print(Counter(y_train))\n",
        "\n",
        "# Aplicar o SMOTE para balancear as classes\n",
        "smote = SMOTE(random_state=42)\n",
        "X_train_balanced, y_train_balanced = smote.fit_resample(X_train_encoded, y_train_encoded)\n",
        "\n",
        "# Verificar a nova distribuição das classes em y_train_balanced\n",
        "print(\"\\nDistribuição após balanceamento com SMOTE:\")\n",
        "print(Counter(y_train_balanced))\n",
        "\n",
        "# Converter y_train_balanced de volta para DataFrame para melhor visualização\n",
        "y_train_balanced = pd.DataFrame(y_train_balanced, columns=['Credit Score'])\n",
        "\n",
        "# Exibir proporções após o balanceamento\n",
        "balanced_proportions = y_train_balanced['Credit Score'].value_counts(normalize=True).rename_axis('Credit Score').reset_index(name='proportion')\n",
        "print(\"\\nProporções das classes após balanceamento:\")\n",
        "print(balanced_proportions)"
      ],
      "metadata": {
        "colab": {
          "base_uri": "https://localhost:8080/"
        },
        "id": "LMYT1SMMI03e",
        "outputId": "66e76753-cc56-4d3e-815f-1312d120fec9"
      },
      "execution_count": 9,
      "outputs": [
        {
          "output_type": "stream",
          "name": "stdout",
          "text": [
            "Distribuição original das classes em y_train:\n",
            "Counter({'High': 70, 'Average': 25, 'Low': 9})\n",
            "\n",
            "Distribuição após balanceamento com SMOTE:\n",
            "Counter({1: 70, 0: 70, 2: 70})\n",
            "\n",
            "Proporções das classes após balanceamento:\n",
            "   Credit Score  proportion\n",
            "0             1    0.333333\n",
            "1             0    0.333333\n",
            "2             2    0.333333\n"
          ]
        }
      ]
    },
    {
      "cell_type": "markdown",
      "source": [
        "## Desbalanceamento e Aplicação do SMOTE\n",
        "\n",
        "A **distribuição original** das classes em `y_train` mostrava um desbalanceamento, com a classe **High** representando a maior parte dos dados (**70 ocorrências**), seguida pelas classes **Average** (**25 ocorrências**) e **Low** (**9 ocorrências**). Esse desbalanceamento poderia afetar a performance do modelo, especialmente em relação às classes com menor frequência.\n",
        "\n",
        "Após aplicar o **SMOTE**, a distribuição das classes foi **balanceada**, com cada classe (**High**, **Average**, **Low**) possuindo agora **70 ocorrências**. Como resultado, as proporções das classes passaram a ser iguais, com cada uma representando **33,33%** do total de dados.\n",
        "\n",
        "Esse balanceamento é importante, pois garante que o modelo de **Naive Bayes** não favoreça excessivamente a classe **High** (a mais frequente inicialmente), proporcionando uma análise mais justa e equilibrada para todas as classes. Isso deve resultar em um modelo mais robusto e capaz de lidar melhor com as classes menos representadas.\n"
      ],
      "metadata": {
        "id": "yxcNyLywJQrk"
      }
    },
    {
      "cell_type": "markdown",
      "metadata": {
        "id": "1NWQ6Wu1s3UF"
      },
      "source": [
        "# 2) Aplique o algoritmo de Naive Bayes aos dados de treinamento."
      ]
    },
    {
      "cell_type": "code",
      "execution_count": 10,
      "metadata": {
        "id": "H0hjx3BztAOk",
        "colab": {
          "base_uri": "https://localhost:8080/",
          "height": 688
        },
        "outputId": "cf7a53d8-1d7a-490b-83c0-8f343aa41393"
      },
      "outputs": [
        {
          "output_type": "stream",
          "name": "stderr",
          "text": [
            "/usr/local/lib/python3.10/dist-packages/sklearn/utils/validation.py:1408: DataConversionWarning: A column-vector y was passed when a 1d array was expected. Please change the shape of y to (n_samples, ), for example using ravel().\n",
            "  y = column_or_1d(y, warn=True)\n"
          ]
        },
        {
          "output_type": "stream",
          "name": "stdout",
          "text": [
            "\n",
            "Acurácia do modelo: 1.0000\n",
            "\n",
            "Recall (média ponderada): 1.0000\n"
          ]
        },
        {
          "output_type": "display_data",
          "data": {
            "text/plain": [
              "<Figure size 800x600 with 2 Axes>"
            ],
            "image/png": "[encoded data removed]"
          },
          "metadata": {}
        }
      ],
      "source": [
        "# Aplicando o algoritmo Naive Bayes\n",
        "# Criando o modelo\n",
        "model = GaussianNB()\n",
        "\n",
        "# Treinando o modelo com os dados balanceados\n",
        "model.fit(X_train_balanced, y_train_balanced)\n",
        "\n",
        "# Fazer previsões sobre o conjunto de teste\n",
        "X_test_encoded = X_test.copy()\n",
        "\n",
        "# Codificando as variáveis categóricas de X_test\n",
        "for column in X_test_encoded.select_dtypes(include=['object', 'category']).columns:\n",
        "    le = label_encoders.get(column)\n",
        "    if le:\n",
        "        X_test_encoded[column] = le.transform(X_test_encoded[column])\n",
        "\n",
        "# Previsões no conjunto de teste\n",
        "y_pred = model.predict(X_test_encoded)\n",
        "\n",
        "# Decodificar y_pred de volta para as classes originais (strings)\n",
        "y_pred_decoded = LabelEncoder().fit(y_train).inverse_transform(y_pred)\n",
        "\n",
        "# Avaliar a acurácia do modelo\n",
        "accuracy = accuracy_score(y_test, y_pred_decoded)\n",
        "print(f\"\\nAcurácia do modelo: {accuracy:.4f}\")\n",
        "\n",
        "# Calcular a matriz de confusão\n",
        "conf_matrix = confusion_matrix(y_test, y_pred_decoded)\n",
        "\n",
        "# Calcular o recall do modelo\n",
        "recall = recall_score(y_test, y_pred_decoded, average='weighted')\n",
        "print(f\"\\nRecall (média ponderada): {recall:.4f}\")\n",
        "\n",
        "\n",
        "# Criar o gráfico da matriz de confusão usando um heatmap\n",
        "plt.figure(figsize=(8, 6))\n",
        "sns.heatmap(conf_matrix, annot=True, fmt='d', cmap='Blues', xticklabels=['Low', 'Average', 'High'], yticklabels=['Low', 'Average', 'High'])\n",
        "plt.xlabel('Predição')\n",
        "plt.ylabel('Real')\n",
        "plt.title('Matriz de Confusão')\n",
        "plt.show()"
      ]
    },
    {
      "cell_type": "markdown",
      "metadata": {
        "id": "7m7zKlOnt1--"
      },
      "source": [
        "# 3) Faça a avaliação do modelo com os dados de treinamento.\n",
        "Traga a acurácia, recall e plote a matriz de confusão. Não se esqueça de avaliar com suas palavras o desempenho do modelo, interpretando as métricas."
      ]
    },
    {
      "cell_type": "markdown",
      "metadata": {
        "id": "5neq107RveMm"
      },
      "source": [
        "Dica: Para calcularmos o recall em classificação multi classe precisamos usar o atributo macro:\n",
        "recall = recall_score(y_train, y_pred_train, average='macro')"
      ]
    },
    {
      "cell_type": "code",
      "execution_count": 11,
      "metadata": {
        "id": "AjJ2CriPt0rh",
        "colab": {
          "base_uri": "https://localhost:8080/",
          "height": 703
        },
        "outputId": "26d98364-5aaf-44af-a81f-560da93620df"
      },
      "outputs": [
        {
          "output_type": "stream",
          "name": "stdout",
          "text": [
            "\n",
            "Acurácia do modelo nos dados de treinamento: 0.9808\n",
            "Recall (média macro) nos dados de treinamento: 0.9819\n",
            "\n",
            "Matriz de Confusão:\n",
            "[[24  0  1]\n",
            " [ 1 69  0]\n",
            " [ 0  0  9]]\n"
          ]
        },
        {
          "output_type": "display_data",
          "data": {
            "text/plain": [
              "<Figure size 800x600 with 2 Axes>"
            ],
            "image/png": "[encoded data removed]"
          },
          "metadata": {}
        }
      ],
      "source": [
        "\n",
        "# Fazer previsões sobre o conjunto de treinamento\n",
        "y_pred_train = model.predict(X_train_encoded)\n",
        "\n",
        "# Decodificar y_pred_train de volta para as classes originais (strings)\n",
        "y_pred_train_decoded = LabelEncoder().fit(y_train).inverse_transform(y_pred_train)\n",
        "\n",
        "# Avaliar a acurácia do modelo\n",
        "accuracy_train = accuracy_score(y_train, y_pred_train_decoded)\n",
        "print(f\"\\nAcurácia do modelo nos dados de treinamento: {accuracy_train:.4f}\")\n",
        "\n",
        "# Calcular o recall com média macro\n",
        "recall_train = recall_score(y_train, y_pred_train_decoded, average='macro')\n",
        "print(f\"Recall (média macro) nos dados de treinamento: {recall_train:.4f}\")\n",
        "\n",
        "# Calcular a matriz de confusão\n",
        "conf_matrix_train = confusion_matrix(y_train, y_pred_train_decoded)\n",
        "print(\"\\nMatriz de Confusão:\")\n",
        "print(conf_matrix_train)\n",
        "\n",
        "# Criar o gráfico da matriz de confusão usando um heatmap\n",
        "plt.figure(figsize=(8, 6))\n",
        "sns.heatmap(conf_matrix_train, annot=True, fmt='d', cmap='Blues', xticklabels=['Low', 'Average', 'High'], yticklabels=['Low', 'Average', 'High'])\n",
        "plt.xlabel('Predição')\n",
        "plt.ylabel('Real')\n",
        "plt.title('Matriz de Confusão - Dados de Treinamento')\n",
        "plt.show()\n"
      ]
    },
    {
      "cell_type": "markdown",
      "source": [
        "## Avaliação do Modelo nos Dados de Treinamento\n",
        "\n",
        "A avaliação do modelo nos dados de treinamento mostrou bons resultados, o que indica que o modelo está performando bem no conjunto de treinamento.\n",
        "\n",
        "### 1. Acurácia do Modelo\n",
        "A **acurácia** do modelo nos dados de treinamento foi **98,08%**. Isso significa que o modelo acertou aproximadamente 98% das previsões para as classes do conjunto de dados de treinamento. Esse valor é alto, o que sugere que o modelo tem uma boa capacidade de generalização nesse conjunto.\n",
        "\n",
        "### 2. Recall (Média Macro)\n",
        "O **recall** (média macro) foi de **98,19%**. O recall calcula a capacidade do modelo de identificar corretamente as instâncias positivas para cada classe. Como estamos lidando com um problema de classificação multiclasse, usamos a média macro, que calcula o recall individualmente para cada classe e depois tira a média desses valores. Um recall tão alto indica que o modelo está fazendo um bom trabalho em identificar corretamente todas as classes.\n",
        "\n",
        "### 3. Matriz de Confusão\n",
        "A **matriz de confusão** mostra o desempenho do modelo em relação às diferentes classes:\n",
        "\n",
        "```python\n",
        "[[24  0  1]    -> 24 casos da classe \"Low\" foram corretamente classificados, 1 caso foi classificado erroneamente como \"High\".\n",
        " [ 1 69  0]    -> 69 casos da classe \"Average\" foram corretamente classificados, 1 caso foi erroneamente classificado como \"Low\".\n",
        " [ 0  0  9]]   -> 9 casos da classe \"High\" foram corretamente classificados.\n"
      ],
      "metadata": {
        "id": "nX1448O_MAR1"
      }
    },
    {
      "cell_type": "markdown",
      "metadata": {
        "id": "-WVs2h6ovta6"
      },
      "source": [
        "# 4) Aplique o modelo aos dados de teste e realize a avaliação dos resultados, da mesma forma que fez acima. Não se esqueça de avaliar com as suas palavras e comparar o desempenho da base treino com a teste."
      ]
    },
    {
      "cell_type": "code",
      "execution_count": 13,
      "metadata": {
        "id": "PXswiQprv5pw",
        "colab": {
          "base_uri": "https://localhost:8080/",
          "height": 703
        },
        "outputId": "cdd3abb3-806a-4809-d5b6-69f3bee9bf2b"
      },
      "outputs": [
        {
          "output_type": "stream",
          "name": "stdout",
          "text": [
            "\n",
            "Acurácia do modelo nos dados de teste: 1.0000\n",
            "Recall (média macro) nos dados de teste: 1.0000\n",
            "\n",
            "Matriz de Confusão - Dados de Teste:\n",
            "[[ 6  0  0]\n",
            " [ 0 18  0]\n",
            " [ 0  0  2]]\n"
          ]
        },
        {
          "output_type": "display_data",
          "data": {
            "text/plain": [
              "<Figure size 800x600 with 2 Axes>"
            ],
            "image/png": "[encoded data removed]"
          },
          "metadata": {}
        }
      ],
      "source": [
        "# Decodificar y_pred_test para o formato de string (caso necessário)\n",
        "y_pred_test_decoded = LabelEncoder().fit(y_train).inverse_transform(y_pred_test)\n",
        "\n",
        "# Avaliar a acurácia do modelo no conjunto de teste\n",
        "accuracy_test = accuracy_score(y_test, y_pred_test_decoded)\n",
        "print(f\"\\nAcurácia do modelo nos dados de teste: {accuracy_test:.4f}\")\n",
        "\n",
        "# Calcular o recall com média macro\n",
        "recall_test = recall_score(y_test, y_pred_test_decoded, average='macro')\n",
        "print(f\"Recall (média macro) nos dados de teste: {recall_test:.4f}\")\n",
        "\n",
        "# Calcular a matriz de confusão para o conjunto de teste\n",
        "conf_matrix_test = confusion_matrix(y_test, y_pred_test_decoded)\n",
        "print(\"\\nMatriz de Confusão - Dados de Teste:\")\n",
        "print(conf_matrix_test)\n",
        "\n",
        "# Criar o gráfico da matriz de confusão usando um heatmap\n",
        "plt.figure(figsize=(8, 6))\n",
        "sns.heatmap(conf_matrix_test, annot=True, fmt='d', cmap='Blues',\n",
        "            xticklabels=['Low', 'Average', 'High'],\n",
        "            yticklabels=['Low', 'Average', 'High'])\n",
        "plt.xlabel('Predição')\n",
        "plt.ylabel('Real')\n",
        "plt.title('Matriz de Confusão - Dados de Teste')\n",
        "plt.show()\n"
      ]
    },
    {
      "cell_type": "markdown",
      "source": [
        "## Desempenho do Modelo\n",
        "\n",
        "O modelo apresentou um desempenho impressionante, com métricas extremamente altas tanto na base de treinamento quanto na base de teste. Nos dados de treinamento, a **acurácia** foi de **98,08%** e o **recall médio** de **98,19%**. Isso demonstra que o modelo conseguiu aprender bem os padrões presentes no conjunto de treinamento, errando apenas 2 previsões em 104 amostras. A **matriz de confusão** nos dados de treinamento confirma esse desempenho consistente, com apenas um erro ao confundir \"Low\" com \"High\" e outro ao confundir \"Average\" com \"Low\".\n",
        "\n",
        "Quando analisamos a base de teste, o desempenho foi ainda mais marcante, com acurácia e recall médios de **100%**. Ou seja, o modelo acertou todas as 26 previsões, sem cometer nenhum erro. A matriz de confusão reflete isso perfeitamente, mostrando que cada classe foi corretamente identificada. Essa performance impecável no conjunto de teste é um excelente indicador de que o modelo **generalizou bem** e não apresenta sinais de **overfitting**, o que é sempre uma preocupação ao trabalhar com dados balanceados artificialmente, como foi feito com o **SMOTE**.\n",
        "\n",
        "## Implicações dos Resultados\n",
        "\n",
        "### Dados Balanceados\n",
        "O balanceamento das classes com o **SMOTE** foi essencial para que o modelo lidasse bem com as classes menos representadas. Antes do balanceamento, a classe \"Low\" era bastante sub-representada, e isso poderia ter feito o modelo ignorá-la em prol das classes mais frequentes. Com o balanceamento, o modelo conseguiu tratar todas as classes de maneira equitativa, o que foi fundamental para alcançar esses resultados.\n",
        "\n",
        "### Generalização\n",
        "O fato de o modelo ter mantido (e até superado) o desempenho do treino no teste é um ótimo indicativo de que ele é capaz de **generalizar bem** para novos dados. Isso é crucial em aplicações reais, já que os dados usados no treinamento nunca refletem completamente as condições do mundo real.\n",
        "\n",
        "### Distribuição dos Dados\n",
        "A alta performance também sugere que os dados de treino e teste são bem representativos do problema em questão. A proporção das classes nos dois conjuntos está alinhada, o que ajuda a evitar vieses e resultados enganosos.\n",
        "\n",
        "### Complexidade do Problema\n",
        "A aplicação do **Naive Bayes**, um modelo relativamente simples, também indica que os dados têm padrões claros e bem definidos. Em outras palavras, as classes parecem ser bem separáveis com base nas variáveis disponíveis, o que facilita o trabalho do modelo.\n",
        "\n",
        "### Confiabilidade no Mundo Real\n",
        "Apesar do excelente desempenho, é importante considerar que as condições no mundo real podem não ser tão previsíveis quanto nos dados do experimento. Isso significa que o modelo deve ser testado continuamente com novos dados para garantir que ele mantenha a eficácia e identificar possíveis desvios.\n",
        "\n",
        "## Conclusão\n",
        "\n",
        "Os resultados sugerem que o modelo está muito bem ajustado e pronto para ser usado. No entanto, é sempre bom ter um pé atrás com resultados perfeitos no teste, pois pode indicar que o conjunto de teste está muito similar ao de treino. Uma próxima etapa interessante seria testar o modelo em dados totalmente novos, que simulem melhor o ambiente real, para verificar se ele continua mantendo essa robustez.\n",
        "\n",
        "No geral, estou muito satisfeito com o desempenho, especialmente considerando que lidamos com um problema **multiclasse desbalanceado**. Isso é um ótimo exemplo de como técnicas como o **SMOTE** e um bom **pré-processamento** podem fazer toda a diferença!\n"
      ],
      "metadata": {
        "id": "NF9SgAQUc0je"
      }
    },
    {
      "cell_type": "markdown",
      "metadata": {
        "id": "fKc3id7ZwL7V"
      },
      "source": [
        "# 5) Descreva com suas palavras o projeto desenvolvido nessa atividade e qual o nosso objetivo principal ao aplicarmos o algoritmo de naive bayes a base de crédito.\n",
        "Utilize pelo menos 4 linhas.\n",
        "\n",
        "Dica: Caso você ainda esteja tendo dificuldade em visualizar a aplicação dos projetos e objetivo, consulte seus tutores!"
      ]
    },
    {
      "cell_type": "markdown",
      "source": [
        "## Objetivo do Projeto\n",
        "\n",
        "O objetivo principal ao aplicarmos o algoritmo de **Naive Bayes** à base de crédito foi desenvolver um modelo de classificação probabilístico capaz de prever a categoria de risco de crédito de clientes, classificando-os em **\"High\"**, **\"Average\"** e **\"Low\"**. Essa tarefa é fundamental para instituições financeiras, pois fornece uma base sólida para decisões relacionadas à concessão de crédito, gerenciamento de risco e alocação de recursos. Prever o risco de forma confiável permite evitar perdas financeiras e otimizar as operações de crédito.\n",
        "\n",
        "## Escolha do Modelo\n",
        "\n",
        "O **Naive Bayes** foi escolhido como modelo por ser uma técnica simples, porém eficaz, em problemas de classificação com múltiplas classes. Ele se baseia no **Teorema de Bayes**, calculando a probabilidade condicional de cada variável contribuir para a classificação final, com a suposição de independência entre as variáveis. Essa abordagem torna o Naive Bayes eficiente tanto em termos computacionais quanto na capacidade de lidar com dados complexos, o que é especialmente útil em aplicações práticas.\n",
        "\n",
        "## Processo de Aplicação\n",
        "\n",
        "No contexto do projeto, o algoritmo foi aplicado após um processo de preparação dos dados que incluiu:\n",
        "\n",
        "- **Divisão em conjuntos de treino e teste**.\n",
        "- **Balanceamento das classes** usando o método **SMOTE** (para lidar com o desbalanceamento da base).\n",
        "- **Codificação das variáveis categóricas**.\n",
        "\n",
        "Após o treinamento, o modelo foi avaliado tanto no conjunto de treino quanto no de teste, utilizando métricas como **acurácia**, **recall** e **matriz de confusão**. Isso permitiu não apenas medir a precisão do modelo, mas também entender como ele se comportava ao prever categorias menos representadas, como a classe \"Low\".\n",
        "\n",
        "## Conclusão\n",
        "\n",
        "Em suma, ao aplicarmos o **Naive Bayes**, nosso principal objetivo foi desenvolver uma solução prática e eficiente para o problema de classificação de risco de crédito, garantindo previsões rápidas, precisas e confiáveis, mesmo em um cenário com desbalanceamento de classes. Essa abordagem demonstrou como um modelo probabilístico simples pode ser aplicado para resolver problemas reais, contribuindo para a tomada de decisões estratégicas no mercado financeiro.\n"
      ],
      "metadata": {
        "id": "5i0qjLOAdoRN"
      }
    }
  ],
  "metadata": {
    "colab": {
      "provenance": []
    },
    "kernelspec": {
      "display_name": "Python 3 (ipykernel)",
      "language": "python",
      "name": "python3"
    },
    "language_info": {
      "codemirror_mode": {
        "name": "ipython",
        "version": 3
      },
      "file_extension": ".py",
      "mimetype": "text/x-python",
      "name": "python",
      "nbconvert_exporter": "python",
      "pygments_lexer": "ipython3",
      "version": "3.11.7"
    }
  },
  "nbformat": 4,
  "nbformat_minor": 0
}